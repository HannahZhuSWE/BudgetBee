{
 "cells": [
  {
   "cell_type": "code",
   "execution_count": 3,
   "metadata": {
    "dotnet_interactive": {
     "language": "csharp"
    },
    "polyglot_notebook": {
     "kernelName": "csharp"
    },
    "vscode": {
     "languageId": "polyglot-notebook"
    }
   },
   "outputs": [
    {
     "data": {
      "text/html": [
       "<div><div></div><div></div><div><strong>Installed Packages</strong><ul><li><span>Microsoft.SemanticKernel, 1.11.1</span></li></ul></div></div>"
      ]
     },
     "metadata": {},
     "output_type": "display_data"
    }
   ],
   "source": [
    "#!import config/Settings.cs \n",
    "#r \"nuget: Microsoft.SemanticKernel, 1.11.1\"\n",
    "\n",
    "using System.Collections.Generic;\n",
    "using Microsoft.SemanticKernel;\n",
    "using Kernel = Microsoft.SemanticKernel.Kernel;"
   ]
  },
  {
   "cell_type": "code",
   "execution_count": 4,
   "metadata": {
    "dotnet_interactive": {
     "language": "csharp"
    },
    "polyglot_notebook": {
     "kernelName": "csharp"
    },
    "vscode": {
     "languageId": "polyglot-notebook"
    }
   },
   "outputs": [],
   "source": [
    "public class Item{\n",
    "    public string name { get; set;}\n",
    "    public double cost { get; set;}\n",
    "    public string category { get; set;}\n",
    "\n",
    "    public Item(string name, double cost, string category = \"\"){\n",
    "        this.name = name;\n",
    "        this.cost = cost;\n",
    "        this.category = category;\n",
    "    }\n",
    "\n",
    "    public override string ToString() => name + \": $\" + cost + \" - \" + category; \n",
    "}\n",
    "\n",
    "public class Receipt{\n",
    "    public string store { get; set;}\n",
    "    public List<Item> items { get; set;}\n",
    "    public DateTime date { get; set;}\n",
    "\n",
    "    public Receipt(string store, List<Item> items, DateTime date){\n",
    "        this.store = store;\n",
    "        this.items = items;\n",
    "        this.date = date;\n",
    "    }\n",
    "\n",
    "    public override string ToString(){\n",
    "        string printItems = string.Join(\", \", items);\n",
    "        return $\"{store} - {date} : \\n {printItems}\";\n",
    "    }\n",
    "}\n",
    "\n",
    "public class BudgetingApp\n",
    "{\n",
    "    public List<Receipt> receipts;\n",
    "    public List<string> categories;\n",
    "    Microsoft.SemanticKernel.Kernel kernel;\n",
    "    string budgetingPluginDirectoryPath;\n",
    "    Microsoft.SemanticKernel.KernelPlugin budgetingPluginFunctions;\n",
    "\n",
    "    public BudgetingApp(List<string> categories = null, List<Receipt> receipts = null){\n",
    "        this.receipts = receipts ?? new List<Receipt>();\n",
    "        this.categories = categories ?? new List<string>();\n",
    "\n",
    "        //Build kernel\n",
    "        var builder = Kernel.CreateBuilder();\n",
    "        var (useAzureOpenAI, model, azureEndpoint, apiKey, orgId) = Settings.LoadFromFile();\n",
    "\n",
    "        // Configure AI service credentials used by the kernel\n",
    "        if (useAzureOpenAI)\n",
    "            builder.AddAzureOpenAIChatCompletion(model, azureEndpoint, apiKey);\n",
    "        else\n",
    "            builder.AddOpenAIChatCompletion(model, apiKey, orgId);\n",
    "\n",
    "        kernel = builder.Build();\n",
    "\n",
    "        // BudgetingPlugin directory path\n",
    "        budgetingPluginDirectoryPath = Path.Combine(System.IO.Directory.GetCurrentDirectory(), \"BudgetingPlugin\");\n",
    "\n",
    "        // Load the BudgetingPlugin from the Plugins Directory\n",
    "        budgetingPluginFunctions = kernel.ImportPluginFromPromptDirectory(budgetingPluginDirectoryPath);\n",
    "    }\n",
    "\n",
    "    public void sortReceipts(){\n",
    "        for (int r = 0; r < receipts.Count; r++) {\n",
    "            sortReceipt(receipts[r]);\n",
    "        }\n",
    "    }\n",
    "\n",
    "    public void addCategory(string category){\n",
    "        categories.Add(category);\n",
    "        sortReceipts();\n",
    "    }\n",
    "\n",
    "    public void addReceipt(Receipt receipt){\n",
    "        sortReceipt(receipt);\n",
    "        receipts.Add(receipt);\n",
    "    }\n",
    "\n",
    "    void sortReceipt(Receipt receipt){\n",
    "        for (int i = 0; i < receipt.items.Count; i++)\n",
    "        {   \n",
    "                receipt.items[i].category = catagorizeItem(receipt.items[i]).Result;\n",
    "        }\n",
    "    }\n",
    "\n",
    "    async Task<string> catagorizeItem(Item item){\n",
    "        var arguments = new KernelArguments();\n",
    "        arguments[\"categories\"] = string.Join(\", \", categories);\n",
    "        arguments[\"item\"] = item.name;\n",
    "        string category = (await kernel.InvokeAsync(budgetingPluginFunctions[\"SortItems\"], arguments)).ToString();\n",
    "        return item.category = category;\n",
    "    }\n",
    "\n",
    "    public void printSpendingCatagories(){\n",
    "        Dictionary<string, List<Item>> categorizeItems = new Dictionary<string, List<Item>>();\n",
    "        Dictionary<string, double> categoryCosts = new Dictionary<string, double>();\n",
    "        \n",
    "        foreach(string c in categories){\n",
    "            categorizeItems.Add(c, new List<Item>());\n",
    "            categoryCosts.Add(c, 0.0);\n",
    "        }\n",
    "        foreach(Receipt r in receipts){\n",
    "            foreach(Item i in r.items){\n",
    "                categorizeItems[i.category].Add(i);\n",
    "                categoryCosts[i.category] += i.cost;\n",
    "            }\n",
    "        }\n",
    "        foreach(string c in categories){\n",
    "            Console.WriteLine(c + \" - \"+ categoryCosts[c]);\n",
    "            Console.WriteLine(\"----------------------------\");\n",
    "            Console.WriteLine(string.Join(\", \", categorizeItems[c]) + \"\\n\");\n",
    "        }\n",
    "    }\n",
    "}"
   ]
  },
  {
   "cell_type": "code",
   "execution_count": 5,
   "metadata": {
    "dotnet_interactive": {
     "language": "csharp"
    },
    "polyglot_notebook": {
     "kernelName": "csharp"
    },
    "vscode": {
     "languageId": "polyglot-notebook"
    }
   },
   "outputs": [],
   "source": [
    "List<Item> targetItems = new List<Item>();\n",
    "List<Item> QFCItems = new List<Item>();\n",
    "targetItems.Add(new Item(\"Phone\", 1005.50 ));\n",
    "targetItems.Add(new Item(\"Lemons\", 4.99 ));\n",
    "QFCItems.Add(new Item(\"Milk\", 2.99 ));\n",
    "QFCItems.Add(new Item(\"Chips\", 1.99 ));\n",
    "QFCItems.Add(new Item(\"Celery\", 4.58 ));\n",
    "\n",
    "Receipt targetReceipt = new Receipt(\"Target\", targetItems, new DateTime(2024, 9, 17));\n",
    "Receipt QFCReceipt = new Receipt(\"QFC\", QFCItems, new DateTime(2024, 9, 18));\n",
    "\n",
    "List<string> tempCategories = new List<string>();\n",
    "tempCategories.Add(\"Groceries\");\n",
    "tempCategories.Add(\"Electronics\");\n",
    "\n",
    "BudgetingApp budgetingApp = new BudgetingApp(tempCategories);"
   ]
  },
  {
   "cell_type": "code",
   "execution_count": 6,
   "metadata": {
    "dotnet_interactive": {
     "language": "csharp"
    },
    "polyglot_notebook": {
     "kernelName": "csharp"
    },
    "vscode": {
     "languageId": "polyglot-notebook"
    }
   },
   "outputs": [
    {
     "name": "stdout",
     "output_type": "stream",
     "text": [
      "The original QFC receipt before sorting\n",
      "QFC - 9/18/2024 12:00:00 AM : \n",
      " Milk: $2.99 - , Chips: $1.99 - , Celery: $4.58 - \n",
      "The QFC receipt after adding it to the budget app and sorting\n",
      "QFC - 9/18/2024 12:00:00 AM : \n",
      " Milk: $2.99 - Groceries, Chips: $1.99 - Groceries, Celery: $4.58 - Groceries\n",
      "Spendings\n",
      "Groceries - 14.55\n",
      "----------------------------\n",
      "Lemons: $4.99 - Groceries, Milk: $2.99 - Groceries, Chips: $1.99 - Groceries, Celery: $4.58 - Groceries\n",
      "\n",
      "Electronics - 1005.5\n",
      "----------------------------\n",
      "Phone: $1005.5 - Electronics\n",
      "\n",
      "Spendings after adding a Junk Food category\n",
      "Groceries - 12.56\n",
      "----------------------------\n",
      "Lemons: $4.99 - Groceries, Milk: $2.99 - Groceries, Celery: $4.58 - Groceries\n",
      "\n",
      "Electronics - 1005.5\n",
      "----------------------------\n",
      "Phone: $1005.5 - Electronics\n",
      "\n",
      "Junk food - 1.99\n",
      "----------------------------\n",
      "Chips: $1.99 - Junk food\n",
      "\n"
     ]
    }
   ],
   "source": [
    "Console.WriteLine(\"The original QFC receipt before sorting\");\n",
    "Console.WriteLine(QFCReceipt);\n",
    "\n",
    "budgetingApp.addReceipt(targetReceipt);\n",
    "budgetingApp.addReceipt(QFCReceipt);\n",
    "\n",
    "Console.WriteLine(\"The QFC receipt after adding it to the budget app and sorting\");\n",
    "Console.WriteLine(QFCReceipt);\n",
    "\n",
    "Console.WriteLine(\"Spendings\");\n",
    "budgetingApp.printSpendingCatagories();\n",
    "\n",
    "//Adding a category recategorizes the items\n",
    "budgetingApp.addCategory(\"Junk food\");\n",
    "\n",
    "Console.WriteLine(\"Spendings after adding a Junk Food category\");\n",
    "budgetingApp.printSpendingCatagories();"
   ]
  }
 ],
 "metadata": {
  "kernelspec": {
   "display_name": ".NET (C#)",
   "language": "C#",
   "name": ".net-csharp"
  },
  "language_info": {
   "name": "python"
  },
  "polyglot_notebook": {
   "kernelInfo": {
    "defaultKernelName": "csharp",
    "items": [
     {
      "aliases": [],
      "name": "csharp"
     }
    ]
   }
  }
 },
 "nbformat": 4,
 "nbformat_minor": 2
}
